{
  "nbformat": 4,
  "nbformat_minor": 0,
  "metadata": {
    "colab": {
      "name": "Friends Series Analysis.ipynb",
      "provenance": []
    },
    "kernelspec": {
      "name": "python3",
      "display_name": "Python 3"
    },
    "language_info": {
      "name": "python"
    }
  },
  "cells": [
    {
      "cell_type": "markdown",
      "source": [
        "#**Friends Series Analysis**"
      ],
      "metadata": {
        "id": "WZ6Nj0dxkw3X"
      }
    },
    {
      "cell_type": "markdown",
      "source": [
        "##Business Question\n",
        "\n",
        "Can you identify what makes a great Friends episode?"
      ],
      "metadata": {
        "id": "10SzQXgcmWUo"
      }
    },
    {
      "cell_type": "markdown",
      "source": [
        "## Data Dictionary\n",
        "\n",
        "**Year_of_prod**: The year the episode was produced - *Numeric*\n",
        "\n",
        "**Season**:\tThe season to which the episode belongs\t- *Numeric*\n",
        "\n",
        "**Episode Number**:\tThe number of the episode - *Numeric*\n",
        "\n",
        "**Episode_Title**:\tThe title of the episode - *Text*\n",
        "\n",
        "**Duration**:\tThe duration of the episode in minutes - *Numeric*\n",
        "\n",
        "**Summary**:\tThe summary of the episode - *Text*\n",
        "\n",
        "**Director**:\tThe director of the episode - *Text*\n",
        "\n",
        "**Stars**:\tThe number of stars the episode received out of 10 - *Decimal*\n",
        "\n",
        "**Votes**:\tThe amount of votes the episode received - *Numeric*"
      ],
      "metadata": {
        "id": "Y9cneqaSmbwI"
      }
    },
    {
      "cell_type": "markdown",
      "source": [
        "##Import Data & Explore"
      ],
      "metadata": {
        "id": "aDSzDslhk_tf"
      }
    },
    {
      "cell_type": "code",
      "source": [
        "# Import necessary libraries\n",
        "import pandas as pd"
      ],
      "metadata": {
        "id": "-xNAwblolIcD"
      },
      "execution_count": 1,
      "outputs": []
    },
    {
      "cell_type": "code",
      "source": [
        "# Loading the data set\n",
        "friend_df = pd.read_csv('/content/drive/MyDrive/Data Science - Content/Personal Projects/friends_episodes_v3.csv',encoding='latin-1')"
      ],
      "metadata": {
        "id": "9VrQoTrTk-5M"
      },
      "execution_count": 4,
      "outputs": []
    },
    {
      "cell_type": "code",
      "source": [
        "#Checking the top of our data\n",
        "friend_df.head(10)"
      ],
      "metadata": {
        "colab": {
          "base_uri": "https://localhost:8080/",
          "height": 563
        },
        "id": "9mNFkjXpmDkK",
        "outputId": "965aaaf2-daa3-4997-ecd8-ec858fbe44aa"
      },
      "execution_count": 5,
      "outputs": [
        {
          "output_type": "execute_result",
          "data": {
            "text/html": [
              "\n",
              "  <div id=\"df-3e1f7814-c59f-4ada-8031-9d879177115c\">\n",
              "    <div class=\"colab-df-container\">\n",
              "      <div>\n",
              "<style scoped>\n",
              "    .dataframe tbody tr th:only-of-type {\n",
              "        vertical-align: middle;\n",
              "    }\n",
              "\n",
              "    .dataframe tbody tr th {\n",
              "        vertical-align: top;\n",
              "    }\n",
              "\n",
              "    .dataframe thead th {\n",
              "        text-align: right;\n",
              "    }\n",
              "</style>\n",
              "<table border=\"1\" class=\"dataframe\">\n",
              "  <thead>\n",
              "    <tr style=\"text-align: right;\">\n",
              "      <th></th>\n",
              "      <th>Year_of_prod</th>\n",
              "      <th>Season</th>\n",
              "      <th>Episode Number</th>\n",
              "      <th>Episode_Title</th>\n",
              "      <th>Duration</th>\n",
              "      <th>Summary</th>\n",
              "      <th>Director</th>\n",
              "      <th>Stars</th>\n",
              "      <th>Votes</th>\n",
              "    </tr>\n",
              "  </thead>\n",
              "  <tbody>\n",
              "    <tr>\n",
              "      <th>0</th>\n",
              "      <td>1994</td>\n",
              "      <td>1</td>\n",
              "      <td>1</td>\n",
              "      <td>The One Where Monica Gets a Roommate: The Pilot</td>\n",
              "      <td>22</td>\n",
              "      <td>Monica and the gang introduce Rachel to the \"r...</td>\n",
              "      <td>James Burrows</td>\n",
              "      <td>8.3</td>\n",
              "      <td>7440</td>\n",
              "    </tr>\n",
              "    <tr>\n",
              "      <th>1</th>\n",
              "      <td>1994</td>\n",
              "      <td>1</td>\n",
              "      <td>2</td>\n",
              "      <td>The One with the Sonogram at the End</td>\n",
              "      <td>22</td>\n",
              "      <td>Ross finds out his ex-wife is pregnant. Rachel...</td>\n",
              "      <td>James Burrows</td>\n",
              "      <td>8.1</td>\n",
              "      <td>4888</td>\n",
              "    </tr>\n",
              "    <tr>\n",
              "      <th>2</th>\n",
              "      <td>1994</td>\n",
              "      <td>1</td>\n",
              "      <td>3</td>\n",
              "      <td>The One with the Thumb</td>\n",
              "      <td>22</td>\n",
              "      <td>Monica becomes irritated when everyone likes h...</td>\n",
              "      <td>James Burrows</td>\n",
              "      <td>8.2</td>\n",
              "      <td>4605</td>\n",
              "    </tr>\n",
              "    <tr>\n",
              "      <th>3</th>\n",
              "      <td>1994</td>\n",
              "      <td>1</td>\n",
              "      <td>4</td>\n",
              "      <td>The One with George Stephanopoulos</td>\n",
              "      <td>22</td>\n",
              "      <td>Joey and Chandler take Ross to a hockey game t...</td>\n",
              "      <td>James Burrows</td>\n",
              "      <td>8.1</td>\n",
              "      <td>4468</td>\n",
              "    </tr>\n",
              "    <tr>\n",
              "      <th>4</th>\n",
              "      <td>1994</td>\n",
              "      <td>1</td>\n",
              "      <td>5</td>\n",
              "      <td>The One with the East German Laundry Detergent</td>\n",
              "      <td>22</td>\n",
              "      <td>Eager to spend time with Rachel, Ross pretends...</td>\n",
              "      <td>Pamela Fryman</td>\n",
              "      <td>8.5</td>\n",
              "      <td>4438</td>\n",
              "    </tr>\n",
              "    <tr>\n",
              "      <th>5</th>\n",
              "      <td>1994</td>\n",
              "      <td>1</td>\n",
              "      <td>6</td>\n",
              "      <td>The One with the Butt</td>\n",
              "      <td>22</td>\n",
              "      <td>Monica's obsessiveness is put to the test afte...</td>\n",
              "      <td>Arlene Sanford</td>\n",
              "      <td>8.1</td>\n",
              "      <td>4274</td>\n",
              "    </tr>\n",
              "    <tr>\n",
              "      <th>6</th>\n",
              "      <td>1994</td>\n",
              "      <td>1</td>\n",
              "      <td>7</td>\n",
              "      <td>The One with the Blackout</td>\n",
              "      <td>22</td>\n",
              "      <td>When New York suffers from a blackout, Ross tr...</td>\n",
              "      <td>James Burrows</td>\n",
              "      <td>9.0</td>\n",
              "      <td>5469</td>\n",
              "    </tr>\n",
              "    <tr>\n",
              "      <th>7</th>\n",
              "      <td>1994</td>\n",
              "      <td>1</td>\n",
              "      <td>8</td>\n",
              "      <td>The One Where Nana Dies Twice</td>\n",
              "      <td>22</td>\n",
              "      <td>Monica and Ross mourn the loss of their grandm...</td>\n",
              "      <td>James Burrows</td>\n",
              "      <td>8.1</td>\n",
              "      <td>4156</td>\n",
              "    </tr>\n",
              "    <tr>\n",
              "      <th>8</th>\n",
              "      <td>1994</td>\n",
              "      <td>1</td>\n",
              "      <td>9</td>\n",
              "      <td>The One Where Underdog Gets Away</td>\n",
              "      <td>22</td>\n",
              "      <td>The gang's plans for Thanksgiving go awry afte...</td>\n",
              "      <td>James Burrows</td>\n",
              "      <td>8.2</td>\n",
              "      <td>4038</td>\n",
              "    </tr>\n",
              "    <tr>\n",
              "      <th>9</th>\n",
              "      <td>1994</td>\n",
              "      <td>1</td>\n",
              "      <td>10</td>\n",
              "      <td>The One with the Monkey</td>\n",
              "      <td>22</td>\n",
              "      <td>The gang make (and break) a pact not to bring ...</td>\n",
              "      <td>Peter Bonerz</td>\n",
              "      <td>8.1</td>\n",
              "      <td>4064</td>\n",
              "    </tr>\n",
              "  </tbody>\n",
              "</table>\n",
              "</div>\n",
              "      <button class=\"colab-df-convert\" onclick=\"convertToInteractive('df-3e1f7814-c59f-4ada-8031-9d879177115c')\"\n",
              "              title=\"Convert this dataframe to an interactive table.\"\n",
              "              style=\"display:none;\">\n",
              "        \n",
              "  <svg xmlns=\"http://www.w3.org/2000/svg\" height=\"24px\"viewBox=\"0 0 24 24\"\n",
              "       width=\"24px\">\n",
              "    <path d=\"M0 0h24v24H0V0z\" fill=\"none\"/>\n",
              "    <path d=\"M18.56 5.44l.94 2.06.94-2.06 2.06-.94-2.06-.94-.94-2.06-.94 2.06-2.06.94zm-11 1L8.5 8.5l.94-2.06 2.06-.94-2.06-.94L8.5 2.5l-.94 2.06-2.06.94zm10 10l.94 2.06.94-2.06 2.06-.94-2.06-.94-.94-2.06-.94 2.06-2.06.94z\"/><path d=\"M17.41 7.96l-1.37-1.37c-.4-.4-.92-.59-1.43-.59-.52 0-1.04.2-1.43.59L10.3 9.45l-7.72 7.72c-.78.78-.78 2.05 0 2.83L4 21.41c.39.39.9.59 1.41.59.51 0 1.02-.2 1.41-.59l7.78-7.78 2.81-2.81c.8-.78.8-2.07 0-2.86zM5.41 20L4 18.59l7.72-7.72 1.47 1.35L5.41 20z\"/>\n",
              "  </svg>\n",
              "      </button>\n",
              "      \n",
              "  <style>\n",
              "    .colab-df-container {\n",
              "      display:flex;\n",
              "      flex-wrap:wrap;\n",
              "      gap: 12px;\n",
              "    }\n",
              "\n",
              "    .colab-df-convert {\n",
              "      background-color: #E8F0FE;\n",
              "      border: none;\n",
              "      border-radius: 50%;\n",
              "      cursor: pointer;\n",
              "      display: none;\n",
              "      fill: #1967D2;\n",
              "      height: 32px;\n",
              "      padding: 0 0 0 0;\n",
              "      width: 32px;\n",
              "    }\n",
              "\n",
              "    .colab-df-convert:hover {\n",
              "      background-color: #E2EBFA;\n",
              "      box-shadow: 0px 1px 2px rgba(60, 64, 67, 0.3), 0px 1px 3px 1px rgba(60, 64, 67, 0.15);\n",
              "      fill: #174EA6;\n",
              "    }\n",
              "\n",
              "    [theme=dark] .colab-df-convert {\n",
              "      background-color: #3B4455;\n",
              "      fill: #D2E3FC;\n",
              "    }\n",
              "\n",
              "    [theme=dark] .colab-df-convert:hover {\n",
              "      background-color: #434B5C;\n",
              "      box-shadow: 0px 1px 3px 1px rgba(0, 0, 0, 0.15);\n",
              "      filter: drop-shadow(0px 1px 2px rgba(0, 0, 0, 0.3));\n",
              "      fill: #FFFFFF;\n",
              "    }\n",
              "  </style>\n",
              "\n",
              "      <script>\n",
              "        const buttonEl =\n",
              "          document.querySelector('#df-3e1f7814-c59f-4ada-8031-9d879177115c button.colab-df-convert');\n",
              "        buttonEl.style.display =\n",
              "          google.colab.kernel.accessAllowed ? 'block' : 'none';\n",
              "\n",
              "        async function convertToInteractive(key) {\n",
              "          const element = document.querySelector('#df-3e1f7814-c59f-4ada-8031-9d879177115c');\n",
              "          const dataTable =\n",
              "            await google.colab.kernel.invokeFunction('convertToInteractive',\n",
              "                                                     [key], {});\n",
              "          if (!dataTable) return;\n",
              "\n",
              "          const docLinkHtml = 'Like what you see? Visit the ' +\n",
              "            '<a target=\"_blank\" href=https://colab.research.google.com/notebooks/data_table.ipynb>data table notebook</a>'\n",
              "            + ' to learn more about interactive tables.';\n",
              "          element.innerHTML = '';\n",
              "          dataTable['output_type'] = 'display_data';\n",
              "          await google.colab.output.renderOutput(dataTable, element);\n",
              "          const docLink = document.createElement('div');\n",
              "          docLink.innerHTML = docLinkHtml;\n",
              "          element.appendChild(docLink);\n",
              "        }\n",
              "      </script>\n",
              "    </div>\n",
              "  </div>\n",
              "  "
            ],
            "text/plain": [
              "   Year_of_prod  Season  Episode Number  ...        Director  Stars Votes\n",
              "0          1994       1               1  ...   James Burrows    8.3  7440\n",
              "1          1994       1               2  ...   James Burrows    8.1  4888\n",
              "2          1994       1               3  ...   James Burrows    8.2  4605\n",
              "3          1994       1               4  ...   James Burrows    8.1  4468\n",
              "4          1994       1               5  ...   Pamela Fryman    8.5  4438\n",
              "5          1994       1               6  ...  Arlene Sanford    8.1  4274\n",
              "6          1994       1               7  ...   James Burrows    9.0  5469\n",
              "7          1994       1               8  ...   James Burrows    8.1  4156\n",
              "8          1994       1               9  ...   James Burrows    8.2  4038\n",
              "9          1994       1              10  ...    Peter Bonerz    8.1  4064\n",
              "\n",
              "[10 rows x 9 columns]"
            ]
          },
          "metadata": {},
          "execution_count": 5
        }
      ]
    },
    {
      "cell_type": "code",
      "source": [
        "# check the shape of our data set\n",
        "friend_df.shape"
      ],
      "metadata": {
        "colab": {
          "base_uri": "https://localhost:8080/"
        },
        "id": "ogxSCHNsnwBb",
        "outputId": "59357f5f-ebd2-4313-b06b-d4de0a1e857a"
      },
      "execution_count": 7,
      "outputs": [
        {
          "output_type": "execute_result",
          "data": {
            "text/plain": [
              "(236, 9)"
            ]
          },
          "metadata": {},
          "execution_count": 7
        }
      ]
    },
    {
      "cell_type": "markdown",
      "source": [
        "Our data set has 236 observations and 9 columns/variables"
      ],
      "metadata": {
        "id": "m2vGfsJCn-h_"
      }
    },
    {
      "cell_type": "code",
      "source": [
        "# Let's check the data types\n",
        "friend_df.info()"
      ],
      "metadata": {
        "colab": {
          "base_uri": "https://localhost:8080/"
        },
        "id": "eqy0w8PEoGXg",
        "outputId": "13f7360b-d521-418a-f38c-527789734dfe"
      },
      "execution_count": 10,
      "outputs": [
        {
          "output_type": "stream",
          "name": "stdout",
          "text": [
            "<class 'pandas.core.frame.DataFrame'>\n",
            "RangeIndex: 236 entries, 0 to 235\n",
            "Data columns (total 9 columns):\n",
            " #   Column          Non-Null Count  Dtype  \n",
            "---  ------          --------------  -----  \n",
            " 0   Year_of_prod    236 non-null    int64  \n",
            " 1   Season          236 non-null    int64  \n",
            " 2   Episode Number  236 non-null    int64  \n",
            " 3   Episode_Title   236 non-null    object \n",
            " 4   Duration        236 non-null    int64  \n",
            " 5   Summary         236 non-null    object \n",
            " 6   Director        236 non-null    object \n",
            " 7   Stars           236 non-null    float64\n",
            " 8   Votes           236 non-null    int64  \n",
            "dtypes: float64(1), int64(5), object(3)\n",
            "memory usage: 16.7+ KB\n"
          ]
        }
      ]
    },
    {
      "cell_type": "markdown",
      "source": [
        "Our dataset's variable data types align with the data dictionary."
      ],
      "metadata": {
        "id": "xkR4wHo5ob2X"
      }
    },
    {
      "cell_type": "code",
      "source": [
        "# check for missing values\n",
        "friend_df.isnull().sum()"
      ],
      "metadata": {
        "colab": {
          "base_uri": "https://localhost:8080/"
        },
        "id": "1LWpTJtUoll2",
        "outputId": "d9ba2ad4-7299-4e69-db94-fa474cae5391"
      },
      "execution_count": 11,
      "outputs": [
        {
          "output_type": "execute_result",
          "data": {
            "text/plain": [
              "Year_of_prod      0\n",
              "Season            0\n",
              "Episode Number    0\n",
              "Episode_Title     0\n",
              "Duration          0\n",
              "Summary           0\n",
              "Director          0\n",
              "Stars             0\n",
              "Votes             0\n",
              "dtype: int64"
            ]
          },
          "metadata": {},
          "execution_count": 11
        }
      ]
    },
    {
      "cell_type": "markdown",
      "source": [
        "There are no missing values.Let's check for duplicates."
      ],
      "metadata": {
        "id": "rnbEoUEqo_C7"
      }
    },
    {
      "cell_type": "code",
      "source": [
        "# chcking for duplicates\n",
        "friend_df.duplicated().sum()"
      ],
      "metadata": {
        "colab": {
          "base_uri": "https://localhost:8080/"
        },
        "id": "NVK71Vpgo-c7",
        "outputId": "e86a38b0-5584-43b1-a874-2f9a38582e95"
      },
      "execution_count": 13,
      "outputs": [
        {
          "output_type": "execute_result",
          "data": {
            "text/plain": [
              "0"
            ]
          },
          "metadata": {},
          "execution_count": 13
        }
      ]
    },
    {
      "cell_type": "markdown",
      "source": [
        "There are no duplicated values/observations."
      ],
      "metadata": {
        "id": "NCcNsz7dpPi1"
      }
    },
    {
      "cell_type": "code",
      "source": [
        "# check fo unique values\n",
        "for i in friend_df.columns:\n",
        " print(friend_df[i].unique())\n",
        " print (\"\\n\")"
      ],
      "metadata": {
        "colab": {
          "base_uri": "https://localhost:8080/"
        },
        "id": "-AZv7lU9pW3H",
        "outputId": "eb6f37c8-76a2-49e4-a7eb-cce9be4e8118"
      },
      "execution_count": 14,
      "outputs": [
        {
          "output_type": "stream",
          "name": "stdout",
          "text": [
            "[1994 1995 1996 1997 1998 1999 2000 2001 2002 2003 2004]\n",
            "\n",
            "\n",
            "[ 1  2  3  4  5  6  7  8  9 10]\n",
            "\n",
            "\n",
            "[ 1  2  3  4  5  6  7  8  9 10 11 12 13 14 15 16 17 18 19 20 21 22 23 24\n",
            " 25]\n",
            "\n",
            "\n",
            "['The One Where Monica Gets a Roommate: The Pilot'\n",
            " 'The One with the Sonogram at the End' 'The One with the Thumb'\n",
            " 'The One with George Stephanopoulos'\n",
            " 'The One with the East German Laundry Detergent' 'The One with the Butt'\n",
            " 'The One with the Blackout' 'The One Where Nana Dies Twice'\n",
            " 'The One Where Underdog Gets Away' 'The One with the Monkey'\n",
            " 'The One with Mrs. Bing' 'The One with the Dozen Lasagnas'\n",
            " 'The One with the Boobies' 'The One with the Candy Hearts'\n",
            " 'The One with the Stoned Guy' 'The One with Two Parts: Part 1'\n",
            " 'The One with Two Parts: Part 2' 'The One with All the Poker'\n",
            " 'The One Where the Monkey Gets Away' 'The One with the Evil Orthodontist'\n",
            " 'The One with the Fake Monica' 'The One with the Ick Factor'\n",
            " 'The One with the Birth' 'The One Where Rachel Finds Out'\n",
            " \"The One with Ross's New Girlfriend\" 'The One with the Breast Milk'\n",
            " 'The One Where Heckles Dies' \"The One with Phoebe's Husband\"\n",
            " 'The One with Five Steaks and an Eggplant'\n",
            " 'The One with the Baby on the Bus' 'The One Where Ross Finds Out'\n",
            " 'The One with the List' \"The One with Phoebe's Dad\" 'The One with Russ'\n",
            " 'The One with the Lesbian Wedding' 'The One After the Superbowl: Part 1'\n",
            " 'The One After the Superbowl: Part 2' 'The One with the Prom Video'\n",
            " 'The One Where Ross and Rachel... You Know'\n",
            " 'The One Where Joey Moves Out' 'The One Where Eddie Moves In'\n",
            " 'The One Where Dr. Ramoray Dies' \"The One Where Eddie Won't Go\"\n",
            " 'The One Where Old Yeller Dies' 'The One with the Bullies'\n",
            " 'The One with the Two Parties' 'The One with the Chicken Pox'\n",
            " \"The One with Barry and Mindy's Wedding\"\n",
            " 'The One with the Princess Leia Fantasy' \"The One Where No One's Ready\"\n",
            " 'The One with the Jam' 'The One with the Metaphorical Tunnel'\n",
            " 'The One with Frank Jr.' 'The One with the Flashback'\n",
            " 'The One with the Race Car Bed' 'The One with the Giant Poking Device'\n",
            " 'The One with the Football' 'The One Where Rachel Quits'\n",
            " \"The One Where Chandler Can't Remember Which Sister\"\n",
            " 'The One with All the Jealousy'\n",
            " 'The One Where Monica and Richard Are Just Friends'\n",
            " \"The One with Phoebe's Ex-Partner\"\n",
            " 'The One Where Ross and Rachel Take a Break'\n",
            " 'The One with the Morning After' 'The One Without the Ski Trip'\n",
            " 'The One with the Hypnosis Tape' 'The One with the Tiny T-Shirt'\n",
            " 'The One with the Dollhouse' 'The One with the Chick and the Duck'\n",
            " 'The One with the Screamer' \"The One with Ross's Thing\"\n",
            " 'The One with the Ultimate Fighting Champion' 'The One at the Beach'\n",
            " 'The One with the Jellyfish' 'The One with the Cat'\n",
            " \"The One with the 'Cuffs\" 'The One with the Ballroom Dancing'\n",
            " \"The One with Joey's New Girlfriend\" 'The One with the Dirty Girl'\n",
            " 'The One Where Chandler Crosses the Line'\n",
            " 'The One with Chandler in a Box' \"The One Where They're Going to Party!\"\n",
            " 'The One with the Girl from Poughkeepsie' \"The One with Phoebe's Uterus\"\n",
            " 'The One with the Embryos' \"The One with Rachel's Crush\"\n",
            " \"The One with Joey's Dirty Day\" 'The One with All the Rugby'\n",
            " 'The One with the Fake Party' 'The One with the Free Porn'\n",
            " \"The One with Rachel's New Dress\" 'The One with All the Haste'\n",
            " 'The One with All the Wedding Dresses' 'The One with the Invitation'\n",
            " 'The One with the Worst Best Man Ever' \"The One with Ross's Wedding\"\n",
            " 'The One After Ross Says Rachel' 'The One with All the Kissing'\n",
            " 'The One Hundredth' 'The One Where Phoebe Hates PBS'\n",
            " 'The One with the Kips' 'The One with the Yeti'\n",
            " 'The One Where Ross Moves In' 'The One with All the Thanksgivings'\n",
            " \"The One with Ross's Sandwich\" 'The One with the Inappropriate Sister'\n",
            " 'The One with All the Resolutions' \"The One with Chandler's Work Laugh\"\n",
            " \"The One with Joey's Bag\" 'The One Where Everybody Finds Out'\n",
            " 'The One with the Girl Who Hits Joey' 'The One with the Cop'\n",
            " \"The One with Rachel's Inadvertent Kiss\" 'The One Where Rachel Smokes'\n",
            " \"The One Where Ross Can't Flirt\" 'The One with the Ride Along'\n",
            " 'The One with the Ball' \"The One with Joey's Big Break\"\n",
            " 'The One in Vegas: Part 1' 'The One in Vegas: Part 2'\n",
            " 'The One After Vegas' 'The One Where Ross Hugs Rachel'\n",
            " \"The One with Ross's Denial\" 'The One Where Joey Loses His Insurance'\n",
            " \"The One with Joey's Porsche\" 'The One on the Last Night'\n",
            " 'The One Where Phoebe Runs' \"The One with Ross' Teeth\"\n",
            " 'The One Where Ross Got High' 'The One with the Routine'\n",
            " 'The One with the Apothecary Table' 'The One with the Joke'\n",
            " \"The One with Rachel's Sister\" \"The One Where Chandler Can't Cry\"\n",
            " 'The One That Could Have Been' 'The One with Unagi'\n",
            " 'The One Where Ross Dates a Student' \"The One with Joey's Fridge\"\n",
            " 'The One with Mac and C.H.E.E.S.E.'\n",
            " \"The One Where Ross Meets Elizabeth's Dad\" \"The One Where Paul's the Man\"\n",
            " 'The One with the Ring' 'The One with the Proposal'\n",
            " \"The One with Monica's Thunder\" \"The One with Rachel's Book\"\n",
            " \"The One with Phoebe's Cookies\" \"The One with Rachel's Assistant\"\n",
            " 'The One with the Engagement Picture' 'The One with the Nap Partners'\n",
            " \"The One with Ross's Library Book\"\n",
            " \"The One Where Chandler Doesn't Like Dogs\" 'The One with All the Candy'\n",
            " 'The One with the Holiday Armadillo' 'The One with All the Cheesecakes'\n",
            " \"The One Where They're Up All Night\" 'The One Where Rosita Dies'\n",
            " 'The One Where They All Turn Thirty' \"The One with Joey's New Brain\"\n",
            " 'The One with the Truth About London'\n",
            " 'The One with the Cheap Wedding Dress' \"The One with Joey's Award\"\n",
            " \"The One with Ross and Monica's Cousin\" \"The One with Rachel's Big Kiss\"\n",
            " 'The One with the Vows' \"The One with Chandler's Dad\"\n",
            " \"The One with Monica and Chandler's Wedding: Part 1\"\n",
            " \"The One with Monica and Chandler's Wedding: Part 2\" 'The One After I Do'\n",
            " 'The One with the Red Sweater' 'The One Where Rachel Tells...'\n",
            " 'The One with the Videotape' \"The One with Rachel's Date\"\n",
            " 'The One with the Halloween Party' 'The One with the Stain'\n",
            " 'The One with the Stripper' 'The One with the Rumor'\n",
            " \"The One with Monica's Boots\" \"The One with Ross's Step Forward\"\n",
            " 'The One Where Joey Dates Rachel' 'The One Where Chandler Takes a Bath'\n",
            " 'The One with the Secret Closet' 'The One with the Birthing Video'\n",
            " 'The One Where Joey Tells Rachel' 'The One with the Tea Leaves'\n",
            " 'The One in Massapequa' \"The One with Joey's Interview\"\n",
            " 'The One with the Baby Shower' 'The One with the Cooking Class'\n",
            " 'The One Where Rachel Is Late' 'The One Where Rachel Has a Baby: Part 1'\n",
            " 'The One Where Rachel Has a Baby: Part 2' 'The One Where No One Proposes'\n",
            " 'The One Where Emma Cries' 'The One with the Pediatrician'\n",
            " 'The One with the Sharks' \"The One with Phoebe's Birthday Dinner\"\n",
            " 'The One with the Male Nanny' \"The One with Ross's Inappropriate Song\"\n",
            " \"The One with Rachel's Other Sister\" \"The One with Rachel's Phone Number\"\n",
            " 'The One with Christmas in Tulsa'\n",
            " 'The One Where Rachel Goes Back to Work' \"The One with Phoebe's Rats\"\n",
            " 'The One Where Monica Sings' 'The One with the Blind Dates'\n",
            " 'The One with the Mugging' 'The One with the Boob Job'\n",
            " 'The One with the Memorial Service' 'The One with the Lottery'\n",
            " \"The One with Rachel's Dream\" 'The One with the Soap Opera Party'\n",
            " 'The One with the Fertility Test' 'The One with the Donor'\n",
            " 'The One in Barbados' 'The One After Joey and Rachel Kiss'\n",
            " 'The One Where Ross Is Fine' \"The One with Ross's Tan\"\n",
            " 'The One with the Cake' \"The One Where Rachel's Sister Babysits\"\n",
            " \"The One with Ross' Grant\" 'The One with the Home Study'\n",
            " 'The One with the Late Thanksgiving' 'The One with the Birth Mother'\n",
            " 'The One Where Chandler Gets Caught' 'The One Where the Stripper Cries'\n",
            " \"The One with Phoebe's Wedding\" 'The One Where Joey Speaks French'\n",
            " 'The One with Princess Consuela' 'The One Where Estelle Dies'\n",
            " \"The One with Rachel's Going Away Party\" 'The Last One: Part 1'\n",
            " 'The Last One: Part 2']\n",
            "\n",
            "\n",
            "[22 30 24 27 26 23]\n",
            "\n",
            "\n",
            "['Monica and the gang introduce Rachel to the \"real world\" after she leaves her fiancé at the altar.'\n",
            " \"Ross finds out his ex-wife is pregnant. Rachel returns her engagement ring to Barry. Monica becomes stressed when her and Ross's parents come to visit.\"\n",
            " 'Monica becomes irritated when everyone likes her new boyfriend more than she does. Chandler resumes his smoking habit. Phoebe is given $7000 when she finds a thumb in a can of soda.'\n",
            " \"Joey and Chandler take Ross to a hockey game to take his mind off the anniversary of the first time he slept with Carol, while the girls become depressed when they realize they don't have a 'plan'.\"\n",
            " 'Eager to spend time with Rachel, Ross pretends his washroom is rat-infested so he can join her at the laundromat. Meanwhile, Joey has Monica pose as his girlfriend, and Chandler struggles to break up with his girlfriend.'\n",
            " \"Monica's obsessiveness is put to the test after Rachel cleans the apartment. Joey lands a film role as Al Pacino's butt double. Chandler enjoys a relationship with all of the fun but none of the responsibility.\"\n",
            " 'When New York suffers from a blackout, Ross tries to tell Rachel that he likes her, and Chandler gets stuck in an ATM vestibule with a model.'\n",
            " 'Monica and Ross mourn the loss of their grandmother. Chandler is shocked to find that people think he is gay.'\n",
            " \"The gang's plans for Thanksgiving go awry after they get locked out of Monica and Rachel's apartment.\"\n",
            " 'The gang make (and break) a pact not to bring dates to their New Years Eve party. Phoebe starts dating a scientist. Ross compensates for his loneliness by getting a monkey.'\n",
            " \"Chandler's flamboyant romance-novelist mother comes to visit, and Joey catches her kissing Ross. Meanwhile, Monica and Phoebe fight over a guy in a coma.\"\n",
            " \"Rachel and Paolo's relationship hits a snag when he makes a pss at Phoebe. Ross refuses to find out the sex of his baby until it's born. Chandler and Joey go shopping for a new kitchen table.\"\n",
            " 'Joey finds out his dad has a mistress. Rachel tries to even the score after Chandler inadvertently catches a glimpse of her breasts. Phoebe dates a shrink who analyzes the gang.'\n",
            " \"As Valentine's Day approaches; Ross and his date end up at the same restaurant as Carol and Susan, Joey inadvertently sets Chandler up on a blind date with Janice, and the girls burn mementos of their old boyfriends.\"\n",
            " \"Monica cooks a gourmet meal for a restaurateur who is looking for a new chef, however he arrives at the apartment stoned. Meanwhile, Ross tries to master 'dirty talk'.\"\n",
            " 'Phoebe feels neglected when Joey falls for her twin sister. Chandler struggles to fire an attractive co-worker. Ross attends Lamaze classes with Carol and Susan.'\n",
            " 'Rachel switches identities with Monica so she can use her health insurance. Meanwhile, Ursula continues to come between Phoebe and Joey.'\n",
            " 'As Rachel interviews for a new job, the girls take on the guys in a game of poker.'\n",
            " \"The gang frantically search for Ross's monkey Marcel after Rachel loses him.\"\n",
            " \"Rachel and Barry start dating again, despite the fact that he's now engaged to Mindy; Chandler goes nuts when a woman he likes won't return his phone calls.\"\n",
            " 'Monica befriends the woman who stole her credit card. Ross is forced to give away Marcel. Joey tries to come up with a less ethnic-sounding stage name.'\n",
            " \"Monica gets a shock when she finds out her boyfriend is a high school student. Chandler finds out his colleagues don't like him when Phoebe temps as his secretary.\"\n",
            " \"As Carol goes into labor; Ross and Susan argue, Rachel flirts with Carol's doctor, and Joey assists a pregnant single mother.\"\n",
            " \"As Ross leaves for China, Chandler accidentally reveals Ross's feelings for Rachel. Joey takes part in a fertility study and is unable to sleep with his new girlfriend.\"\n",
            " \"Rachel waits for Ross at the airport, unaware he has a new girlfriend. Meanwhile, Chandler has a frightening experience with Joey's tailor, and Phoebe gives Monica a bad haircut.\"\n",
            " \"Monica goes shopping with Julie and tries to keep it a secret from Rachel. Ross is grossed out by Carol's breast milk. At his day job, Joey competes with a fellow cologne spritzer.\"\n",
            " 'After Mr. Heckles dies and leaves all his belongings to Monica and Rachel, Chandler worries he will die alone just like him. Meanwhile, Phoebe and Ross argue over evolution.'\n",
            " 'When the gang find out Phoebe married a gay Canadian ice dancer for a green card, more of their secrets are revealed. Meanwhile, Rachel gives Ross bad advice on his relationship with Julie.'\n",
            " \"The gang are divided by income issues; Monica, Ross and Chandler have money, and Rachel, Phoebe and Joey don't.\"\n",
            " 'Joey and Chandler are left to babysit Ben when Monica takes Ross to the hospital. Meanwhile, Phoebe loses her singing gig at Central Perk to a professional singer.'\n",
            " \"A drunken Rachel calls Ross and reveals her feelings for him on his answering machine. Meanwhile, Monica keeps busy by being Chandler's personal trainer and Phoebe constantly wonders why her current boyfriend won't sleep with her.\"\n",
            " 'With help from Chandler and Joey, Ross makes a list of pros and cons to decide whether to be with Julie or Rachel. Meanwhile, Monica gets a job making dessert with a disgusting synthetic chocolate substitute.'\n",
            " \"Phoebe tracks down her father, but isn't sure whether she should meet him. Ross asks Rachel to make a list of pros and cons about him.\"\n",
            " \"Monica gets back together with 'Fun Bobby' and realizes why he is always so upbeat. Rachel starts dating a guy called Russ who bears an uncanny resemblance to Ross.\"\n",
            " \"Rachel's mom comes to visit with big news. Monica caters Carol and Susan's wedding. Phoebe becomes 'possessed' by the spirit of a recently deceased client.\"\n",
            " 'Ross goes to visit Marcel whilst on a trip to California and discovers he is working in commercials. Joey receives a fan letter from an attractive but unstable woman. Phoebe is asked to sing for children at a library.'\n",
            " 'Ross finds Marcel on the set of a new movie, where Chandler bumps into a former schoolmate. Meanwhile, Rachel and Monica compete for the affections of Jean-Claude Van Damme.'\n",
            " \"The gang watches a home video from the night of Monica and Rachel's prom. Joey gives Chandler a hideous bracelet.\"\n",
            " 'Monica becomes infatuated with a friend of her parents when she caters a party for him. Ross and Rachel go on their first date. Joey and Chandler refuse to move when they get a new TV and two armchairs.'\n",
            " \"Joey and Chandler's friendship is jeopardized when Joey decides to move out. Monica worries about her parents finding out about her relationship with Richard when they attend a party together. Rachel and Phoebe go to get tattoos.\"\n",
            " 'Chandler gets a new roommate. Phoebe gets the chance to make a music video for her song \"Smelly Cat\". Ross and Monica clash when he is always at her and Rachel\\'s apartment.'\n",
            " \"Joey's soap opera character is killed off after he brags in an interview that he writes his own lines. Chandler is unnerved by Eddie's strange behavior, while Ross and Rachel compare their past lovers as do Richard and Monica.\"\n",
            " \"Chandler demands that Eddie move out; however, he doesn't seem to get the message. Meanwhile, a book on empowerment for women inspires the girls. In order to pay his bills, Ross convinces Joey to audition for a role he doesn't want.\"\n",
            " \"Phoebe's world view is shattered when she learns how Old Yeller really ends. Monica becomes jealous when Richard starts hanging out with Chandler and Joey. Rachel panics when she learns that Ross has planned their whole life together.\"\n",
            " 'Chandler and Ross run into two bullies at Central Perk. Monica tries her luck at the stock market to avoid taking a job at a 1950s themed diner. Phoebe drives upstate for a second time to meet her father while Joey and Rachel accompany her.'\n",
            " \"Chaos ensues when Rachel's recently divorced parents show up at her surprise birthday party, so the gang has to find ways to keep her parents separated otherwise they'll start fighting.\"\n",
            " \"Phoebe catches chicken pox just as an old flame arrives in town on leave from the Navy. Joey gets a job at Chandler's office. Monica is upset that Richard doesn't have any quirks.\"\n",
            " \"Rachel reluctantly agrees to be maid of honor at her ex-fiancÃ© Barry's wedding. Monica ponders her future with Richard. Joey has to practice kissing guys to get a role in Warren Beatty's new movie but Ross and Chandler are unwilling to help him.\"\n",
            " \"Monica suffers from insomnia and depression following her breakup with Richard. Joey struggles to accept Chandler and Janice's relationship. Ross confides in Rachel about one of his fantasies.\"\n",
            " 'A stressed Ross desperately and insistently tries to get the rest of the gang ready for a black tie event at the museum, while Joey and Chandler clash over personal belongings and personal space.'\n",
            " 'Monica tries to get over Richard by using her free time to make jam and considers artificial insemination through a sperm bank. Phoebe is stalked by a man who mistakes her for Ursula.'\n",
            " \"Chandler tries to get over his fear of commitment. Phoebe poses as Joey's agent after she forgets to tell him about an audition. Ross panics after seeing Ben play with a Barbie doll and tries to convince him to play with more manly toys.\"\n",
            " \"Phoebe has trouble bonding with her half-brother Frank when he comes to visit. Joey attempts to build an entertainment center. Ross is challenged to name the five celebrities he'd like to sleep with most.\"\n",
            " 'The gang remember the events three years ago, when several of them almost slept together.'\n",
            " \"Joey becomes a learning extension teacher in soap acting, and loves the respect from even more clueless kids. Monica chooses a ridiculously cheap bed from Janice's ex; Phoebe signs for her ...                See full summaryÂ\\xa0Â»\"\n",
            " \"Chandler is devastated after Joey tells him he saw Janice kissing her ex-husband. Monica accidentally bumps Ben's head into a post when she and Rachel babysit. Phoebe is paranoid if she goes to dentist someone she knows will die.\"\n",
            " 'Old sibling rivalry between Monica and Ross resurfaces and postpones Thanksgiving dinner when the gang decide to play a game of \"touch\" football.'\n",
            " \"Ross accidentally breaks a little girl's leg and tries to help her sell boxes of cookies which recreates Monica's childhood fixation. Rachel quits her job at Central Perk and Joey's Christmas tree selling conflicts with Phoebe's principles.\"\n",
            " \"A drunken Chandler fools around with one of Joey's sisters - but he can't remember which one. Ross becomes skeptical when a guy at the diner gets Rachel an interview for a position at Bloomingdales.\"\n",
            " \"Ross becomes insanely jealous of Mark. Monica hooks up with a co-worker, who writes her a poem with a hidden meaning. One of Joey's numerous lies on his resume is exposed when he takes part in a Broadway production.\"\n",
            " 'Monica\\'s willpower is tested when she bumps into Richard. Joey and Rachel exchange their favorite books. Phoebe dates an athletic guy who doesn\\'t realize he has a \"wardrobe malfunction\".'\n",
            " 'Phoebe is reunited with her former singing partner who thinks \"Smelly Cat\" has hit potential; Chandler dates a woman with a prosthetic leg.'\n",
            " \"Ross seeks solace at a party after a bitter fight with Rachel and ends up in the arms of another woman; Phoebe's date needs an interpreter to communicate.\"\n",
            " \"Ross is guilt-ridden after sleeping with Chloe and desperately tries to stop Rachel from finding out and when she does, the rest of the gang listen to them argue and end up trapped in Monica's room for the rest of the night.\"\n",
            " \"Monica, Chandler, Phoebe and Joey become stuck in the middle of Ross and Rachel's fight following their break-up.\"\n",
            " \"Monica goes out with a guy who turns out to be a software billionaire. Chandler's stop smoking hypnosis tape has an unexpected side effect. Frank makes a surprise announcement that he is getting married - to a woman twice his age.\"\n",
            " 'Rachel goes on her first date, after splitting from Ross, with Mark. Joey clashes with his co-star in his new play. Monica continues to date Pete, even though she is still not attracted to him.'\n",
            " \"Monica's aunt dies and leaves her an antique dollhouse that she doesn't want Phoebe to play with; Rachel regrets setting up Chandler with her boss, Joanna.\"\n",
            " 'Joey buys a chick for him and Chandler, Pete offers Monica a job at his restaurant but she is undecided if she should accept it. Ross shows his continued feelings for Rachel when he gives up being on TV for her.'\n",
            " \"Ross witnesses Rachel's date screaming at people. Meanwhile, Joey becomes upset when Kate is offered a job in Los Angeles; Phoebe refuses to hang up the phone when she is placed on hold by her phone company.\"\n",
            " \"Ross seeks medical help when he finds a mysterious skin condition on his backside. Phoebe struggles to choose between two guys; Monica can't decide what to do about Pete when she thinks he is going to propose.\"\n",
            " 'Monica struggles to support Pete in his goal to become the Ultimate Fighting Champion. Chandler is uneasy when his boss playfully slaps his butt. Rachel becomes jealous when Ross starts dating a woman that was introduced to him by Phoebe.'\n",
            " 'While at the beach, Phoebe meets a family friend with links to her past; Ross discovers that Rachel still loves him and must decide between her and Bonnie.'\n",
            " 'Ross chooses between Rachel and his bald-headed girlfriend Bonnie; Joey, Chandler, and Monica have a perilous encounter with a jellyfish at the beach.'\n",
            " 'Phoebe becomes convinced that the spirit of her dead mother is inside a cat. Chandler and Joey are robbed. Monica goes on a date with a guy from her high school.'\n",
            " \"Monica tries to avoid criticism when she caters a party for her mother. Chandler ends up half naked and handcuffed to a chair in Rachel's boss's office. Joey tries to get educated from a salesman trying to sell him a set of encyclopedias.\"\n",
            " 'Joey is forced to help Treeger learn how to dance after he threatens to have Monica and Rachel evicted. Phoebe develops a crush on one of her clients. Ross tries to help Chandler quit the gym.'\n",
            " \"Chandler develops feelings for Joey's new girlfriend. Ross and Rachel try to make each other jealous with their dates. Phoebe's cold gives her a sexy singing voice.\"\n",
            " \"Ross's new girlfriend is nearly perfect until he discovers her apartment is very dirty. Chandler buys a better birthday present for Kathy than Joey. Phoebe helps Monica cater an event. Rachel is obsessed at finishing a crossword puzzle by herself.\"\n",
            " \"Chandler is guilt-ridden after kissing Kathy. Ross starts playing the keyboard again and everyone except Phoebe thinks he's terrible. Joey dates someone else while still attached to Kathy.\"\n",
            " \"Chandler tries to earn Joey's forgiveness by lying in a wooden box for six hours. Monica accidentally gets ice in her eye and her doctor turns out to be Richard's son and it's discovered Rachel exchanges the gifts she received in the past.\"\n",
            " 'Monica ends up having to choose between a head chef position or the catering business she started with Phoebe. Rachel is close to getting a promotion but tragedy strikes. Chandler and Ross are excited when an old friend is coming to town.'\n",
            " \"In order for her kitchen staff to acknowledge her authority, Monica hires Joey so she can fire him in front of them. Chandler unsuccessfully tries to set Rachel up with a co-worker. Ross can't choose between two girls.\"\n",
            " \"Newlyweds Frank and Alice ask Phoebe to be their surrogate. Joey gets a job as a tour guide at Ross's museum. Chandler asks Monica and Rachel for advice on how to sexually satisfy Kathy.\"\n",
            " \"Phoebe's uterus is examined for implantation of the embryos. Meanwhile, a seemingly harmless game between Chandler and Joey against Monica and Rachel escalates into a full blown contest where the stakes are raised higher and higher.\"\n",
            " \"After seeing Kathy's play, Chandler becomes convinced she is cheating on him with her co-star. Rachel develops a crush on one of her customers. Monica becomes jealous when she realizes she is no longer the 'hostess'.\"\n",
            " 'Joey arrives on the set of his latest movie unwashed, after a three-day fishing trip with his dad. Rachel sets up Ross with the niece of her boss. Chandler goes through three phrases to help recover from Kathy cheating on him.'\n",
            " 'Chandler runs into Janice, and finds her more irritating than ever and creates an elaborate plan to break up with her, meanwhile, Ross attempts to learn how to play rugby to impress Emily and Monica obsesses over a electric lighting switch.'\n",
            " 'Rachel organizes a fake good bye party for Emily so she can spend time with Joshua. A side effect from her pregnancy causes Phoebe to have a craving for meat.'\n",
            " \"Chandler and Joey discover that they're getting a free porn channel on their TV. Monica encourages Ross to tell Emily he loves her just before she leaves for London. Phoebe gets a shock when she visits her OB-GYN.\"\n",
            " \"Rachel has an awkward encounter with Joshua's parents. Phoebe is offered the chance to name one of the triplets. Ross becomes paranoid when Emily goes to London with Susan.\"\n",
            " 'Ross proposes to Emily. Monica and Rachel try to win their apartment back from Chandler and Joey.'\n",
            " \"Monica tries on Emily's wedding dress, and can't stop wearing it. Jealous of Ross's proposal to Emily, Rachel tries to talk Joshua into marriage. Chandler takes Joey to a sleep clinic when he starts snoring.\"\n",
            " 'As Ross and Emily send out wedding invitations, he and Rachel each look back on their relationship together while Joey and Chandler look for a purpose in life.'\n",
            " \"at first Ross chooses Joey to be his best man but after a mishap at his bachelor party, he decides he wants both Joey and Chandler as his best men. Phoebe's mood swings makes Monica and Rachel nervous.\"\n",
            " \"Phoebe tries to help Rachel deal with her feelings for Ross as the rest of the gang head to London for Ross and Emily's wedding, while someone else unexpectedly shows up to the wedding.\"\n",
            " \"Phoebe tries to warn the gang that Rachel is coming to London to tell Ross she still loves him. Ross and Emily's parents get into an argument over the bill for the wedding. Monica and Chandler sleep together. The wedding ends with a gaffe.\"\n",
            " \"A humiliated Emily runs away after Ross says Rachel's name at the altar. Meanwhile, Chandler and Monica struggle to get time alone together.\"\n",
            " 'Chandler must constantly kiss the girls to cover up a kiss he gave to Monica to hide their affair. Phoebe gets irritated when the gang constantly talk about London. Rachel puts Monica in charge of her love life. Ross tries to contact Emily.'\n",
            " 'The gang take Phoebe to the hospital after she goes into labor. Monica threatens to go on a date with a male nurse after Chandler claims they are \"just goofing around.\" Joey gets treated for kidney stones.'\n",
            " \"Ross finally gets in touch with Emily and they try to work it out. Chandler gloats after Rachel reveals that Monica's secret boyfriend is the best sex she ever had. Phoebe and Joey debate if a selfless good deed exists.\"\n",
            " 'Chandler and Monica go away for the weekend but spend the entire time fighting. Ross tries to tell Rachel about his agreement with Emily.'\n",
            " \"The gang become frustrated with Emily's demands to Ross. Monica and Rachel mistake their new neighbor for a yeti. Phoebe receives a fur coat as a family heirloom from her mother.\"\n",
            " \"Ross moves in with Chandler and Joey after Emily's cousin kicks him out of his apartment. Phoebe dates a health inspector. Rachel plays hard-to-get with Danny.\"\n",
            " 'The gang remember and share with each other their worst Thanksgivings.'\n",
            " \"Joey finds himself constantly covering for Chandler and Monica's affair. Ross becomes angry when someone at work eats his sandwich. Phoebe and Rachel enroll in a literature class.\"\n",
            " \"A bored Ross wreaks havoc in Chandler and Joey's lives. Rachel is uncomfortable with Danny's unusually close relationship with his sister. Phoebe runs into trouble whilst collecting donations for the poor during Christmas.\"\n",
            " 'The gang make their New Years resolutions. Chandler struggles to not make jokes about everyone. Rachel uncovers a secret. Ross runs into trouble when he wears leather pants on a date.'\n",
            " \"Monica becomes annoyed at how Chandler sucks up to his boss by mimicking his boss's laugh and laughing at his tasteless jokes. Ross hooks up with Janice when he finds out Emily is getting married.\"\n",
            " 'Phoebe\\'s grandmother dies, and is shocked when her father turns up at the funeral. Meanwhile, Rachel gives Joey a \"man\\'s bag\" for an audition, and Chandler is scared to tell Monica he doesn\\'t like her massages.'\n",
            " 'When Phoebe finds out about Monica and Chandler, she and Rachel attempt to get them to confess their relationship.'\n",
            " \"Ross makes enemies out of his new neighbors. Chandler freaks out about his relationship with Monica. Joey dates a girl who likes to playfully punch him but she doesn't realize she punches him too hard and Joey is reluctant to tell her.\"\n",
            " 'Joey has a dream about Monica and becomes convinced he is in love with her. Meanwhile, Phoebe finds a police badge in Central Perk, and Ross tries to get his new sofa into his apartment.'\n",
            " \"Rachel has an awkward encounter when she interviews for a new job. Monica becomes jealous of Phoebe and Gary. Joey searches for a 'hot girl' in Ross's building.\"\n",
            " \"Rachel takes up smoking to feel more included at work. Joey auditions for a soup commercial with Ross's son Ben, but they end up competing against each other. Monica and Phoebe plan Rachel's surprise birthday party one month in advance.\"\n",
            " \"As Joey's grandmother visits to watch him on TV, Ross has trouble flirting with the pizza delivery girl, and Rachel tries to find an earring of Monica's that she has misplaced.\"\n",
            " \"The guys go on a ride-along with Gary. Rachel accidentally deletes a message from Emily on Ross's answering machine.\"\n",
            " \"Gary asks Phoebe to move in with him but she's reluctant to and to overcome boredom, Ross and Joey start throwing a ball to each other. Rachel buys an expensive cat but it doesn't behave as she hoped it would.\"\n",
            " \"Joey drives to Las Vegas to shoot to shoot a new movie where he is in the lead role. Rachel gets an eye infection but is reluctant to seek treatment because of her eye phobia. Phoebe is mad at Ross, but doesn't know why.\"\n",
            " 'The gang go to Las Vegas to visit Joey. Chandler is angry when he finds out Monica had lunch with Richard. Ross and Rachel try to embarrass each other after an awkward encounter.'\n",
            " \"Chandler and Monica reconcile and hastily decide to get married. Ross and Rachel get drunk and roam the casino. Phoebe deals with a 'lurker' on the slot machines.\"\n",
            " \"Ross and Rachel deal with the aftermath of their drunken escapade. Phoebe and Joey take a road trip back to New York in Phoebe's grandmother's cab. Monica and Chandler ponder the idea of marriage.\"\n",
            " \"Monica and Chandler try to tell Rachel and Joey that they're moving in together. Phoebe thinks that Ross didn't get the annulment because he still loves Rachel.\"\n",
            " 'Ross tries to deny he still has feelings for Rachel. Joey interviews for a new roommate. Monica and Chandler argue over what to do with the spare room when they move in together.'\n",
            " \"Joey's health benefits lapse just as he develops a hernia. Ross is given a professorship at NYU and eager to impress his students, he puts on a fake English accent.\"\n",
            " 'Ross and Rachel try to get an annulment, Joey finds the keys to a porsche in Central Perk, and Phoebe, Monica and Chandler babysit the triplets.'\n",
            " 'On the last night before Chandler and Monica move in together, Monica and Rachel argue, and Chandler tries to give Joey money to help him pay the bills.'\n",
            " \"Rachel is embarrassed by Phoebe's odd running style. Joey gets a new roommate. Chandler tries to impress Monica by cleaning the apartment but forgets how everything is supposed to look.\"\n",
            " 'Ross goes too far while trying to impress a date by over-whitening his teeth. Rachel uses gossip to get her boss to like her after Phoebe supposedly makes out with Ralph Lauren.'\n",
            " \"Ross is forced to reveal the reason why Jack and Judy don't like Chandler. Rachel tries to make dessert for the gang. Joey and Ross try to get out of Thanksgiving when they are invited to hang out with Janine and her dancer friends.\"\n",
            " 'On the set of \"Dick Clark\\'s New Year\\'s Rockin\\' Eve\", Joey tries to kiss Janine at midnight and Monica and Ross resurrect their dance routine from high school. Meanwhile, Rachel, Phoebe and Chandler look for Monica\\'s Christmas presents.'\n",
            " \"Joey is caught in the middle when Janine tells him she doesn't like Monica and Chandler. Meanwhile, Rachel buys an apothecary table from a store that Phoebe hates.\"\n",
            " 'Chandler and Ross argue over a joke. Meanwhile, Joey reluctantly takes a waiter job at Central Perk, and Monica becomes annoyed when Phoebe says she would choose Rachel over her as a girlfriend.'\n",
            " \"Rachel's younger sister arrives in New York and goes on a date with Ross. Meanwhile, Monica won't admit that she is sick.\"\n",
            " \"Rachel tries to end the spark between Ross and Jill. When Chandler admits that he can't cry, Monica tries to make it happen. The gang discovers that Phoebe's sister, Ursula, is a porn star and is using Phoebe's name.\"\n",
            " 'When Rachel hears Barry and Mindy are getting divorced, the gang wonder how different their lives could have been.'\n",
            " 'The gang continue to think about how different their lives could have been.'\n",
            " \"Rachel and Phoebe take self-defense classes. Chandler and Monica agree to give each other homemade presents for Valentine's Day. Joey tries to get money through medical research.\"\n",
            " \"Ross jeopardizes his career when he starts dating a student from one of his palaeontology classes. Rachel and Phoebe's apartment catches fire.\"\n",
            " 'Joey tries to get everyone to pay for his broken fridge. Ross becomes paranoid when Elizabeth makes plans for spring break. Monica and Chandler compete against Phoebe to find Rachel a date.'\n",
            " 'Chandler forgets to write down a message for Joey when the time of his audition for the lead in a TV show is changed.'\n",
            " 'Elizabeth\\'s father takes an instant disliking to Ross. Joey almost gets fired from \"Mac and C.H.E.E.S.E.\" after offending the operator of the robot. Phoebe writes a book based on Monica and Chandler.'\n",
            " 'Paul threatens to have Ross fired from the university if he continues to date Elizabeth. The girls put their names down on a waiting list for a wedding venue.'\n",
            " 'Chandler and Phoebe go looking for an engagement ring for Monica. Rachel tries to get Paul to open up to her.'\n",
            " \"Chandler's plan to propose to Monica at dinner is interrupted by Richard. Joey accidentally buys a boat at a silent auction. Ross and Elizabeth's relationship comes to a crossroad.\"\n",
            " \"Chandler continues to pretend to hate the idea of marriage, unaware Richard wants Monica back. Meanwhile, Rachel and Phoebe discuss their 'back-up' plans.\"\n",
            " \"The gang celebrate Monica and Chandler's engagement, however Ross and Rachel upstage them by briefly reuniting. Joey tries to dress and act like a nineteen-year-old for an audition.\"\n",
            " \"Monica learns her parents have spent her entire wedding fund. Phoebe temporarily moves into Ross's apartment, bringing her massage clients with her. Joey mocks Rachel when he finds an erotic novel she is reading.\"\n",
            " \"Monica tries to figure out Phoebe's grandmother's secret cookie recipe. Meanwhile, Rachel tries to teach Joey how to sail, and Chandler has an awkward encounter when he tries to bond with Jack.\"\n",
            " 'Chaos ensues when Monica and Chandler decide to share each other\\'s secrets. Rachel gets a promotion and interviews for an assistant. Joey is offered the chance to go back on \"Days of Our Lives\".'\n",
            " \"Chandler struggles to photograph well for his and Monica's engagement picture. Joey teaches Tag how to pick up women, much to Rachel's annoyance. Phoebe and Ross date a couple who are divorcing.\"\n",
            " \"Joey and Ross accidentally take a nap together - and much to their dismay, find that they like it. Phoebe and Rachel compete to become Monica's maid of honor.\"\n",
            " \"Ross and Chandler discovers that Ross's book is in the section of the library where students go to have sex. Monica and Chandler run into Janice and she immediately invites herself to the ...                See full summaryÂ\\xa0Â»\"\n",
            " \"Ross struggles to name all 50 states in a game. Joey compromises Rachel's chances with her crush, Tag, during Thanksgiving dinner. Phoebe sneaks a dog into the apartment, making Chandler extremely nervous.\"\n",
            " 'Monica makes candy to get to know her neighbours, Rachel and Tag try to hide their relationship at work and Ross buys Phoebe a bike.'\n",
            " 'Ross wants to introduce Ben to Hanukkah. In order to entice Rachel to move back into their refurbished apartment, Phoebe must drive a wedge between Rachel and current roomie Joey.'\n",
            " 'Chandler refuses to give back a cheesecake accidentally delivered to his apartment; Phoebe gets angry with Joey when he blows off dinner with her for a date.'\n",
            " 'After the gang head up to the roof to see a passing comet, separate events unfold that lead to them all having a sleepless night.'\n",
            " \"Rachel breaks Joey's armchair. Phoebe takes a temp job in a call centre. Ross and Monica find out their parents are selling their childhood home.\"\n",
            " \"Rachel's 30th birthday prompts the rest of the gang to reminisce about their own 30th celebrations.\"\n",
            " 'Joey gets an opportunity to rejoin \"Days of Our Lives\" when his comatose character is implanted with the brain of a female character. Joey approaches her to get some advice on how to play ...                See full summaryÂ\\xa0Â»'\n",
            " 'Chandler is shocked to find out who Monica really wanted to sleep with the night they first got together. Meanwhile, Rachel gets into trouble with Ross when she teaches Ben practical jokes.'\n",
            " 'Monica takes the other girls to an overpriced store to choose her wedding dress, briefing them as if they were in the military since bargain-hunters are far more ruthless then Rachel can ...                See full summaryÂ\\xa0Â»'\n",
            " \"Joey is nominated for a Soapy Award for his part on Days of Our Lives and Rachel is his date to the ceremony. Joey doesn't win the award but takes someone else's award home. Rachel ...                See full summaryÂ\\xa0Â»\"\n",
            " \"Joey auditions for a naked role in a big movie; Rachel and Phoebe plan Monica's wedding shower; Ross becomes attracted to his cousin after she visits.\"\n",
            " \"Rachel's college friend can't remember a scandalous kiss from the past; Chandler and Ross argue for possession of Val Kilmer's tuxedo.\"\n",
            " 'Monica and Chandler are getting married in four weeks and have to write their vows, but neither has a clue what to say, so they reflect on their past.'\n",
            " \"Ross and Rachel hit the freeway together when Monica's Porsche shows up again; Chandler and Monica go off to Vegas to find Chandler's estranged dad.\"\n",
            " \"So close to the wedding, Chandler suddenly realizes the overwhelming meaning of getting married. Meanwhile, Joey acts opposite a famous actor in a movie, but can't bring himself to tell him that he spits when he says his lines.\"\n",
            " \"Ross tries to find Chandler with Phoebe's help. Meanwhile Rachel tries to hinder Monica.\"\n",
            " \"The gang learns that Rachel is pregnant; Joey tries to impress a Broadway director who's dating Chandler's mom; Chandler's shoes make it hard for him to dance.\"\n",
            " 'Monica, Phoebe and Joey advise Rachel to tell the father about the pregnancy. Chandler and Ross lose the wedding photos.'\n",
            " \"Even on their honeymoon, Monica is pushy, and is annoyed that Chandler won't jump the line at the airport check-in - especially after the couple in front of them, also on their honeymoon, ...                See full summaryÂ\\xa0Â»\"\n",
            " 'Ross and Rachel tell everyone about the night they were together. They have two different stories of how it happened until Ross accidentally reveals that he videotaped it. Not surprisingly, everyone wants to see it.'\n",
            " \"Phoebe dates Monica's sous-chef Tim and Monica doesn't fire him for Phoebe's sake. When Phoebe decides to dump Tim, Monica can finally fire him. Rachel has a date with Kash, a co-star on ...                See full summaryÂ\\xa0Â»\"\n",
            " \"Monica and Chandler are having a costume party for Halloween. Phoebe bumps into Ursula who is getting married in a week and invites her in return for Ursula's invitation for the wedding. ...                See full summaryÂ\\xa0Â»\"\n",
            " 'Chandler hires a maid, whom Monica suspects is stealing her clothing; Eric has trouble forgetting Ursula when he breaks up with her to date Phoebe.'\n",
            " 'Chandler finds out that Monica had a bachelorette party with a stripper, even though they promised not to have bachelor/bachelorette parties. Rachel takes Phoebe along to dinner with ...                See full summaryÂ\\xa0Â»'\n",
            " \"Monica invites Will, an old school friend of her and Ross over for Thanksgiving dinner, unaware he isn't too fond of Rachel.\"\n",
            " \"Monica's expensive new boots hurt her feet, but she's determined to prove to Chandler that her purchase was worth it; Ben goes to school with Sting's son.\"\n",
            " 'Joey wants to take Rachel to dinner on a pretend date to practice his dating skills, but soon develops romantic feelings for her; Monica, Phoebe, and Chandler are addicted to Mrs. Pacman.'\n",
            " 'Phoebe gives Chandler and Monica a late wedding present: the game Ms Pac-Man. Chandler plays it all day long to be better than Monica and Phoebe. Rachel misses dressing up for romantic ...                See full summaryÂ\\xa0Â»'\n",
            " \"Monica turns Chandler on to the concept of taking a bath to relax; Ross and Rachel toss baby names around while deciding whether to learn the baby's sex.\"\n",
            " \"Chandler's very curious about a locked closet, but Monica won't tell him what is inside.\"\n",
            " \"During Valentine's Day, Chandler discovers the miracle of birth seeing an extremely graphic video.\"\n",
            " 'Ross freaks out when Joey tells him that he is in love with Rachel because Ross is afraid that they will get married and raise his kid together. Phoebe dates a guy called Don, who she ...                See full summaryÂ\\xa0Â»'\n",
            " 'Chandler and Monica are happy together - their worst problem is his habit to put CDs in the wrong box and their different taste in music. Rachel is desperate to get back on good terms with ...                See full summaryÂ\\xa0Â»'\n",
            " \"Everyone prepares for the Gellers' 35th wedding anniversary in Long Island; Monica struggles to prepare the perfect toast; Phoebe invites her new boyfriend Parker.\"\n",
            " 'Joey prepares for his epic interview with Soap Opera Digest, reminiscing about his past acting experiences, his friends and his romantic life.'\n",
            " 'Monica and Phoebe throw Rachel a baby shower but forget to invite Rachel\\'s mom. Rachel realizes she has no idea how to look after the baby after the birth. Meanwhile, Joey auditions for a job as a host for a new game show called \"Bamboozled\", and Chandler and Ross help him practice.'\n",
            " \"Monica's restaurant get a bad review. After confronting the critic who wrote it, she decides to join a cooking class, with Joey in tow. Rachel gets jealous when Ross hits it off with a woman at the baby department store.\"\n",
            " \"Monica and Phoebe bet on when Rachel's baby will be born as the due date comes and goes as Rachel becomes extremely irritable; Chandler falls asleep at Joey's big movie premiere.\"\n",
            " \"Ross and Rachel go to the hospital to have their baby, but it's a long labor. They get stuck in a semi-private room, and many other couples come and go before Rachel is ready to deliver - ...                See full summaryÂ\\xa0Â»\"\n",
            " 'After Rachel gives birth to her baby, she must confront relationship issues around her.'\n",
            " 'Rachel thinks that Joey has proposed to her. Monica and Chandler begin trying to have a baby.'\n",
            " \"Chandler, having trouble getting enough sleep at home, falls asleep in a meeting and accidentally agrees to run his company's Tulsa office.\"\n",
            " 'Joey arranges a blind date for Phoebe. Chandler is leaving for Tulsa without Monica, because she has got a great job offer.'\n",
            " 'Monica thinks Chandler is aroused by shark documentaries.'\n",
            " 'Phoebe will celebrate her birthday by having a dinner with her friends at a fancy restaurant. But everybody is late to the dinner, due to a series of problems.'\n",
            " 'Looking for a new nanny, Ross and Rachel hire a male nanny named Sandy. Monica tells Chandler that a guy at work is the funniest guy she has ever met.'\n",
            " 'Ross finds a way to make Emma laugh - singing \"Baby Got Back.\" Meanwhile, Phoebe meets Mike\\'s parents, and Joey and Chandler find a video tape in Richard\\'s apartment.'\n",
            " \"Rachel's middle sister shows up at Thanksgiving and causes arguments amongst the gang.\"\n",
            " 'Rachel is ready to start hanging out again. She and Phoebe go to a bar, where they meet two guys.'\n",
            " 'Chandler must spend Christmas in Tulsa, which Monica thinks he might have an affair with a former Miss Oklahoma runner-up while he is there. Chandler comes home early to announce that he quit his job.'\n",
            " \"Chandler starts looking for a job and is anxious about having a baby, Rachel decides to go back to work, and Phoebe works as an extra on Joey's show.\"\n",
            " \"Ross makes Joey stay away from their new nanny. Mike accidentally kills Phoebe's rat. Gavin gives Rachel a scarf and a kiss for her birthday.\"\n",
            " \"A night at Mike's piano bar gives Monica a very showy moment in the spotlight; Chandler employs his secret skill to repair Joey's botched eyebrow-waxing job.\"\n",
            " \"Phoebe and Joey purposely set Ross and Rachel up on bad dates in the hopes they'll get back together. Monica and Chandler babysit Emma.\"\n",
            " 'Joey gets a part in a stage-play in a painful way. Ross and Phoebe are mugged outside Central Perk, Phoebe realizes that she mugged Ross 18 years ago. Chandler starts his new career as advertising writer.'\n",
            " 'When Monica and Chandler both ask Joey for money not wanting the other to know why they are asking for it, Chandler sees that Joey gave money to Monica. Joey makes up that Monica is getting...                See full summaryÂ\\xa0Â»'\n",
            " 'When Chandler and Ross joke around on their college website, Ross is accused of being dead which leads to the fact that he was not popular in college. Joey is not willing to give his ...                See full summaryÂ\\xa0Â»'\n",
            " 'Hoping to win a huge jackpot, the friends pool their money and buy dozens of lottery tickets. However, they bicker over how to spend the fortune if they win, and Monica irritates everyone else by buying tickets just for her and Chandler.'\n",
            " 'Joey is insecure now his Days of Our Lives character Dr. Drake Ramore is getting real dialog, so he asks Rachel to come along to the set, which she loves enough to get romantic dreams, but ...                See full summaryÂ\\xa0Â»'\n",
            " 'Joey throws a cast party on the roof of his building where he ends up making out with an attractive professor that Ross had a crush on.'\n",
            " \"Still unable to conceive, Monica and Chandler decide to get tests done at a fertility clinic, where they run into Chandler's favorite ex, Janice. Rachel receives a gift certificate for a ...                See full summaryÂ\\xa0Â»\"\n",
            " 'When Joey hears that his girlfriend Charlie is an insecure shopper, he volunteers expert Rachel, who dreads being alone with her, so she makes sure Phoebe comes along, by saying she needs a...                See full summaryÂ\\xa0Â»'\n",
            " 'Chandler gives advice to David, but that makes David want to propose to Phoebe. Although Phoebe is still in love with Mike. Monica calls Mike who shows up there right in the middle of ...                See full summaryÂ\\xa0Â»'\n",
            " \"To the other friends' fury, it keeps raining except during Ross's speech, which to their amazement is a big hit with the paleontologists. Joey's scientific ignorance decides Charlie to turn...                See full summaryÂ\\xa0Â»\"\n",
            " \"Joey and Ross both attempt to come clean to each other that they're dating Rachel and Charlie. Phoebe finds out Mike has another girlfriend.\"\n",
            " \"Rachel and Joey fear for Ross's state of mind after he finds out about their relationship. Chandler and Monica visit some friends of Phoebe to get advice on adoption. Frank and the triplets come to visit.\"\n",
            " \"Ross goes to a tanning salon but fails to follow the 'simple' instructions. Joey and Rachel struggle to make the transition from friends to lovers. Monica and Phoebe try to avoid an annoying woman that used to live in their building.\"\n",
            " \"On Emma's first birthday, Ross and Rachel convince everyone to delay their plans so they can attend her party, however plans go awry when Emma's birthday cake is revealed.\"\n",
            " \"Rachel's sister Amy comes to visit and moves in with her and Joey. Phoebe constantly and accidentally ruins Mike's proposals. Joey struggles to write a letter of recommendation for Monica and Chandler's adoption agency.\"\n",
            " \"Ross applies for a paleontology grant and finds out Charlie's ex-boyfriend reviews the applications. Monica and Rachel fight over who has to take Phoebe's ugly painting.\"\n",
            " \"Monica and Chandler nervously prepare for a visit from an adoption worker. Phoebe and Mike keep changing their minds about donating their wedding money to charity. Ross fights Rachel's fear of swings.\"\n",
            " 'Joey, Ross, Rachel and Phoebe convince Monica and Chandler to host Thanksgiving, however the four of them end up arriving to dinner an hour late.'\n",
            " 'After Rachel confirms Joey is more mature in relationships, Phoebe presents him to another friend as date, Sarah, who fails alas to respect his primordial rule by touching food in his plate...                See full summaryÂ\\xa0Â»'\n",
            " 'Chandler and Monica have decided they want to raise their offspring in a suburban house and even find a perfect one in Westchester. Rachel and Phoebe see Chandler enter a car with his ...                See full summaryÂ\\xa0Â»'\n",
            " 'Old secrets come to light when Ross and Chandler attend a college reunion. Monica and Rachel throw Phoebe a bachelorette party. Joey appears as a celebrity partner on a game show.'\n",
            " 'Chaos ensues as Phoebe and Mike prepare to get married.'\n",
            " 'Phoebe tries to teach Joey to speak French for an audition; Ross and Rachel head out to Long Island after her dad has a heart attack.'\n",
            " \"When Phoebe goes to get her name changed she realizes she can change it to anything she wants, so she changes it to Princess Consuela Banana Hammock, to Mike's displeasure. Chandler finds ...                See full summaryÂ\\xa0Â»\"\n",
            " \"Ross tries to get Rachel to go back to Ralph Lauren, Joey doesn't know that his agent has died, and Monica and Chandler bump into Janice.\"\n",
            " 'The gang throws Rachel a goodbye party, during which she says goodbye to everybody individually.'\n",
            " \"Erica gives birth to the baby that Monica and Chandler are adopting. However, there's one small added surprise. Meanwhile, Ross and Rachel sleep together one last time before Rachel leaves ...                See full summaryÂ\\xa0Â»\"\n",
            " 'Phoebe races Ross to the airport in a bid to stop Rachel from leaving for Paris. Monica and Chandler pack up their apartment ahead of their move to their new house, and Joey buys Chandler a new chick and duck as a leaving present.']\n",
            "\n",
            "\n",
            "['James Burrows' 'Pamela Fryman' 'Arlene Sanford' 'Peter Bonerz'\n",
            " 'Paul Lazarus' 'Alan Myerson' 'Michael Lembeck' 'Gail Mancuso'\n",
            " 'Robby Benson' 'Kevin Bright' 'Ellen Gittelsohn' 'Mary Kay Place'\n",
            " 'Thomas Schlamme' 'Steve Zuckerman' 'Terry Hughes' 'Sam Simon'\n",
            " 'Shelley Jensen' 'Gary Halvorson' 'David Steinberg'\n",
            " 'Dana De Vally Piazza' 'Joe Regalbuto' 'Andrew Tsao' 'Todd Holland'\n",
            " 'David Schwimmer' 'Ben Weiss' 'Stephen Prime' 'Sheldon Epps'\n",
            " 'Roger Christiansen']\n",
            "\n",
            "\n",
            "[8.3 8.1 8.2 8.5 9.  8.7 8.8 7.9 8.9 8.4 8.  8.6 9.4 9.1 9.5 7.2 9.2 9.7\n",
            " 7.4 9.3 7.5 7.8]\n",
            "\n",
            "\n",
            "[ 7440  4888  4605  4468  4438  4274  5469  4156  4038  4064  3996  3926\n",
            "  4172  3866  3915  3834  3883  4340  3734  3736  3769  3720  3919  4187\n",
            "  3814  3669  3676  3555  3550  3822  4319  3581  3444  3591  3524  3723\n",
            "  3864  5736  3928  3435  3407  3403  3495  3295  3337  4151  3360  3335\n",
            "  3482  4637  3324  3199  3292  4291  3238  3258  4588  3268  3374  3213\n",
            "  3225  3211  3450  4192  3154  3147  3134  3359  3185  3120  3253  3600\n",
            "  4099  3169  3122  3157  3294  4139  3045  3025  3210  6006  3006  3028\n",
            "  3180  3061  3212  3011  3168  3110  3364  3052  3343  4217  3609  3674\n",
            "  3331  2995  3215  3001  3029  4261  3913  2980  3781  2949  2959  8066\n",
            "  3125  3174  2977  2898  3242  2888  3010  2857  3282  3726  3175  2883\n",
            "  2851  2976  2902  2942  3074  3139  2892  2829  2950  2996  3097  3037\n",
            "  4180  2870  2920  3096  3063  3578  3065  4186  3022  2817  2803  2820\n",
            "  2785  3369  2856  2772  2753  3014  2936  2983  2819  2896  2961  2758\n",
            "  2793  3155  2894  2832  2822  3178  3563  3005  3470  2858  4114  2703\n",
            "  2969  2766  3082  5291  2765  2636  2871  2800  2654  2643  2698  2674\n",
            "  2699  2804  2690  2662  2906  3150  2939  2957  2733  2764  2799  2971\n",
            "  3273  2702  2601  2688  2685  2642  2670  2588  2713  2792  2616  2615\n",
            "  2557  2635  2705  2844  3113  3366  3277  2825  2812  2853  2716  3302\n",
            "  2860  2748  3684  3161  3044  2989  2771  3141  6221 10381]\n",
            "\n",
            "\n"
          ]
        }
      ]
    },
    {
      "cell_type": "code",
      "source": [
        "# Let's lower case the column names and make columns into a single word\n",
        "friend_df.columns = friend_df.columns.str.lower().str.replace(' ', '_')\n"
      ],
      "metadata": {
        "id": "bGNr6goCqWoM"
      },
      "execution_count": 15,
      "outputs": []
    },
    {
      "cell_type": "code",
      "source": [
        "# check the columns\n",
        "friend_df.columns"
      ],
      "metadata": {
        "colab": {
          "base_uri": "https://localhost:8080/"
        },
        "id": "kXeOoVauq0IE",
        "outputId": "61369f7f-0c8b-452a-e239-75f44f6d91a6"
      },
      "execution_count": 16,
      "outputs": [
        {
          "output_type": "execute_result",
          "data": {
            "text/plain": [
              "Index(['year_of_prod', 'season', 'episode_number', 'episode_title', 'duration',\n",
              "       'summary', 'director', 'stars', 'votes'],\n",
              "      dtype='object')"
            ]
          },
          "metadata": {},
          "execution_count": 16
        }
      ]
    },
    {
      "cell_type": "markdown",
      "source": [
        "## Exploratory Data Analysis"
      ],
      "metadata": {
        "id": "VbOYmrufrF2H"
      }
    },
    {
      "cell_type": "markdown",
      "source": [
        "### Univariate Analysis"
      ],
      "metadata": {
        "id": "5MCvXZCVrKlG"
      }
    },
    {
      "cell_type": "code",
      "source": [
        "# Creating a Frequency table of column directorscategories and using the value_counts() function\n",
        "friend_df.director.value_counts()"
      ],
      "metadata": {
        "colab": {
          "base_uri": "https://localhost:8080/"
        },
        "id": "CDNPhfFBrM9f",
        "outputId": "f99b3236-2842-4ecb-be4f-17183af51b34"
      },
      "execution_count": 17,
      "outputs": [
        {
          "output_type": "execute_result",
          "data": {
            "text/plain": [
              "Gary Halvorson          54\n",
              "Kevin Bright            54\n",
              "Michael Lembeck         24\n",
              "James Burrows           15\n",
              "Gail Mancuso            14\n",
              "Peter Bonerz            12\n",
              "David Schwimmer         10\n",
              "Ben Weiss               10\n",
              "Robby Benson             6\n",
              "Shelley Jensen           6\n",
              "Terry Hughes             5\n",
              "Dana De Vally Piazza     3\n",
              "Sheldon Epps             3\n",
              "Pamela Fryman            2\n",
              "Steve Zuckerman          2\n",
              "Alan Myerson             2\n",
              "Roger Christiansen       2\n",
              "Thomas Schlamme          2\n",
              "Stephen Prime            1\n",
              "Sam Simon                1\n",
              "Todd Holland             1\n",
              "Paul Lazarus             1\n",
              "Arlene Sanford           1\n",
              "Joe Regalbuto            1\n",
              "Mary Kay Place           1\n",
              "Ellen Gittelsohn         1\n",
              "David Steinberg          1\n",
              "Andrew Tsao              1\n",
              "Name: director, dtype: int64"
            ]
          },
          "metadata": {},
          "execution_count": 17
        }
      ]
    }
  ]
}